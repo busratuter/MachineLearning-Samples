{
 "cells": [
  {
   "cell_type": "markdown",
   "id": "90be5fce",
   "metadata": {
    "_cell_guid": "b1076dfc-b9ad-4769-8c92-a6c4dae69d19",
    "_uuid": "8f2839f25d086af736a60e9eeb907d3b93b6e0e5",
    "papermill": {
     "duration": 0.010331,
     "end_time": "2023-04-26T23:17:49.492151",
     "exception": false,
     "start_time": "2023-04-26T23:17:49.481820",
     "status": "completed"
    },
    "tags": []
   },
   "source": [
    "Importing the Dependencies"
   ]
  },
  {
   "cell_type": "code",
   "execution_count": 1,
   "id": "58a9d4c4",
   "metadata": {
    "execution": {
     "iopub.execute_input": "2023-04-26T23:17:49.512928Z",
     "iopub.status.busy": "2023-04-26T23:17:49.511594Z",
     "iopub.status.idle": "2023-04-26T23:17:50.707231Z",
     "shell.execute_reply": "2023-04-26T23:17:50.706029Z"
    },
    "papermill": {
     "duration": 1.208967,
     "end_time": "2023-04-26T23:17:50.710060",
     "exception": false,
     "start_time": "2023-04-26T23:17:49.501093",
     "status": "completed"
    },
    "tags": []
   },
   "outputs": [],
   "source": [
    "import numpy as np\n",
    "import pandas as pd\n",
    "from sklearn.model_selection import train_test_split\n",
    "from sklearn.linear_model import LogisticRegression\n",
    "from sklearn.metrics import accuracy_score\n"
   ]
  },
  {
   "cell_type": "code",
   "execution_count": 2,
   "id": "5bc0f3f9",
   "metadata": {
    "execution": {
     "iopub.execute_input": "2023-04-26T23:17:50.729447Z",
     "iopub.status.busy": "2023-04-26T23:17:50.729011Z",
     "iopub.status.idle": "2023-04-26T23:17:55.597457Z",
     "shell.execute_reply": "2023-04-26T23:17:55.596323Z"
    },
    "papermill": {
     "duration": 4.881402,
     "end_time": "2023-04-26T23:17:55.600293",
     "exception": false,
     "start_time": "2023-04-26T23:17:50.718891",
     "status": "completed"
    },
    "tags": []
   },
   "outputs": [],
   "source": [
    "# loading the dataset to a Pandas DataFrame\n",
    "credit_card_data = pd.read_csv('/kaggle/input/creditcardfraud/creditcard.csv')"
   ]
  },
  {
   "cell_type": "code",
   "execution_count": 3,
   "id": "cf080080",
   "metadata": {
    "execution": {
     "iopub.execute_input": "2023-04-26T23:17:55.620572Z",
     "iopub.status.busy": "2023-04-26T23:17:55.620123Z",
     "iopub.status.idle": "2023-04-26T23:17:55.666711Z",
     "shell.execute_reply": "2023-04-26T23:17:55.665484Z"
    },
    "papermill": {
     "duration": 0.059311,
     "end_time": "2023-04-26T23:17:55.669257",
     "exception": false,
     "start_time": "2023-04-26T23:17:55.609946",
     "status": "completed"
    },
    "tags": []
   },
   "outputs": [
    {
     "data": {
      "text/html": [
       "<div>\n",
       "<style scoped>\n",
       "    .dataframe tbody tr th:only-of-type {\n",
       "        vertical-align: middle;\n",
       "    }\n",
       "\n",
       "    .dataframe tbody tr th {\n",
       "        vertical-align: top;\n",
       "    }\n",
       "\n",
       "    .dataframe thead th {\n",
       "        text-align: right;\n",
       "    }\n",
       "</style>\n",
       "<table border=\"1\" class=\"dataframe\">\n",
       "  <thead>\n",
       "    <tr style=\"text-align: right;\">\n",
       "      <th></th>\n",
       "      <th>Time</th>\n",
       "      <th>V1</th>\n",
       "      <th>V2</th>\n",
       "      <th>V3</th>\n",
       "      <th>V4</th>\n",
       "      <th>V5</th>\n",
       "      <th>V6</th>\n",
       "      <th>V7</th>\n",
       "      <th>V8</th>\n",
       "      <th>V9</th>\n",
       "      <th>...</th>\n",
       "      <th>V21</th>\n",
       "      <th>V22</th>\n",
       "      <th>V23</th>\n",
       "      <th>V24</th>\n",
       "      <th>V25</th>\n",
       "      <th>V26</th>\n",
       "      <th>V27</th>\n",
       "      <th>V28</th>\n",
       "      <th>Amount</th>\n",
       "      <th>Class</th>\n",
       "    </tr>\n",
       "  </thead>\n",
       "  <tbody>\n",
       "    <tr>\n",
       "      <th>0</th>\n",
       "      <td>0.0</td>\n",
       "      <td>-1.359807</td>\n",
       "      <td>-0.072781</td>\n",
       "      <td>2.536347</td>\n",
       "      <td>1.378155</td>\n",
       "      <td>-0.338321</td>\n",
       "      <td>0.462388</td>\n",
       "      <td>0.239599</td>\n",
       "      <td>0.098698</td>\n",
       "      <td>0.363787</td>\n",
       "      <td>...</td>\n",
       "      <td>-0.018307</td>\n",
       "      <td>0.277838</td>\n",
       "      <td>-0.110474</td>\n",
       "      <td>0.066928</td>\n",
       "      <td>0.128539</td>\n",
       "      <td>-0.189115</td>\n",
       "      <td>0.133558</td>\n",
       "      <td>-0.021053</td>\n",
       "      <td>149.62</td>\n",
       "      <td>0</td>\n",
       "    </tr>\n",
       "    <tr>\n",
       "      <th>1</th>\n",
       "      <td>0.0</td>\n",
       "      <td>1.191857</td>\n",
       "      <td>0.266151</td>\n",
       "      <td>0.166480</td>\n",
       "      <td>0.448154</td>\n",
       "      <td>0.060018</td>\n",
       "      <td>-0.082361</td>\n",
       "      <td>-0.078803</td>\n",
       "      <td>0.085102</td>\n",
       "      <td>-0.255425</td>\n",
       "      <td>...</td>\n",
       "      <td>-0.225775</td>\n",
       "      <td>-0.638672</td>\n",
       "      <td>0.101288</td>\n",
       "      <td>-0.339846</td>\n",
       "      <td>0.167170</td>\n",
       "      <td>0.125895</td>\n",
       "      <td>-0.008983</td>\n",
       "      <td>0.014724</td>\n",
       "      <td>2.69</td>\n",
       "      <td>0</td>\n",
       "    </tr>\n",
       "    <tr>\n",
       "      <th>2</th>\n",
       "      <td>1.0</td>\n",
       "      <td>-1.358354</td>\n",
       "      <td>-1.340163</td>\n",
       "      <td>1.773209</td>\n",
       "      <td>0.379780</td>\n",
       "      <td>-0.503198</td>\n",
       "      <td>1.800499</td>\n",
       "      <td>0.791461</td>\n",
       "      <td>0.247676</td>\n",
       "      <td>-1.514654</td>\n",
       "      <td>...</td>\n",
       "      <td>0.247998</td>\n",
       "      <td>0.771679</td>\n",
       "      <td>0.909412</td>\n",
       "      <td>-0.689281</td>\n",
       "      <td>-0.327642</td>\n",
       "      <td>-0.139097</td>\n",
       "      <td>-0.055353</td>\n",
       "      <td>-0.059752</td>\n",
       "      <td>378.66</td>\n",
       "      <td>0</td>\n",
       "    </tr>\n",
       "    <tr>\n",
       "      <th>3</th>\n",
       "      <td>1.0</td>\n",
       "      <td>-0.966272</td>\n",
       "      <td>-0.185226</td>\n",
       "      <td>1.792993</td>\n",
       "      <td>-0.863291</td>\n",
       "      <td>-0.010309</td>\n",
       "      <td>1.247203</td>\n",
       "      <td>0.237609</td>\n",
       "      <td>0.377436</td>\n",
       "      <td>-1.387024</td>\n",
       "      <td>...</td>\n",
       "      <td>-0.108300</td>\n",
       "      <td>0.005274</td>\n",
       "      <td>-0.190321</td>\n",
       "      <td>-1.175575</td>\n",
       "      <td>0.647376</td>\n",
       "      <td>-0.221929</td>\n",
       "      <td>0.062723</td>\n",
       "      <td>0.061458</td>\n",
       "      <td>123.50</td>\n",
       "      <td>0</td>\n",
       "    </tr>\n",
       "    <tr>\n",
       "      <th>4</th>\n",
       "      <td>2.0</td>\n",
       "      <td>-1.158233</td>\n",
       "      <td>0.877737</td>\n",
       "      <td>1.548718</td>\n",
       "      <td>0.403034</td>\n",
       "      <td>-0.407193</td>\n",
       "      <td>0.095921</td>\n",
       "      <td>0.592941</td>\n",
       "      <td>-0.270533</td>\n",
       "      <td>0.817739</td>\n",
       "      <td>...</td>\n",
       "      <td>-0.009431</td>\n",
       "      <td>0.798278</td>\n",
       "      <td>-0.137458</td>\n",
       "      <td>0.141267</td>\n",
       "      <td>-0.206010</td>\n",
       "      <td>0.502292</td>\n",
       "      <td>0.219422</td>\n",
       "      <td>0.215153</td>\n",
       "      <td>69.99</td>\n",
       "      <td>0</td>\n",
       "    </tr>\n",
       "  </tbody>\n",
       "</table>\n",
       "<p>5 rows × 31 columns</p>\n",
       "</div>"
      ],
      "text/plain": [
       "   Time        V1        V2        V3        V4        V5        V6        V7  \\\n",
       "0   0.0 -1.359807 -0.072781  2.536347  1.378155 -0.338321  0.462388  0.239599   \n",
       "1   0.0  1.191857  0.266151  0.166480  0.448154  0.060018 -0.082361 -0.078803   \n",
       "2   1.0 -1.358354 -1.340163  1.773209  0.379780 -0.503198  1.800499  0.791461   \n",
       "3   1.0 -0.966272 -0.185226  1.792993 -0.863291 -0.010309  1.247203  0.237609   \n",
       "4   2.0 -1.158233  0.877737  1.548718  0.403034 -0.407193  0.095921  0.592941   \n",
       "\n",
       "         V8        V9  ...       V21       V22       V23       V24       V25  \\\n",
       "0  0.098698  0.363787  ... -0.018307  0.277838 -0.110474  0.066928  0.128539   \n",
       "1  0.085102 -0.255425  ... -0.225775 -0.638672  0.101288 -0.339846  0.167170   \n",
       "2  0.247676 -1.514654  ...  0.247998  0.771679  0.909412 -0.689281 -0.327642   \n",
       "3  0.377436 -1.387024  ... -0.108300  0.005274 -0.190321 -1.175575  0.647376   \n",
       "4 -0.270533  0.817739  ... -0.009431  0.798278 -0.137458  0.141267 -0.206010   \n",
       "\n",
       "        V26       V27       V28  Amount  Class  \n",
       "0 -0.189115  0.133558 -0.021053  149.62      0  \n",
       "1  0.125895 -0.008983  0.014724    2.69      0  \n",
       "2 -0.139097 -0.055353 -0.059752  378.66      0  \n",
       "3 -0.221929  0.062723  0.061458  123.50      0  \n",
       "4  0.502292  0.219422  0.215153   69.99      0  \n",
       "\n",
       "[5 rows x 31 columns]"
      ]
     },
     "execution_count": 3,
     "metadata": {},
     "output_type": "execute_result"
    }
   ],
   "source": [
    "credit_card_data.head()"
   ]
  },
  {
   "cell_type": "code",
   "execution_count": 4,
   "id": "6606e389",
   "metadata": {
    "execution": {
     "iopub.execute_input": "2023-04-26T23:17:55.690112Z",
     "iopub.status.busy": "2023-04-26T23:17:55.689159Z",
     "iopub.status.idle": "2023-04-26T23:17:55.714679Z",
     "shell.execute_reply": "2023-04-26T23:17:55.713483Z"
    },
    "papermill": {
     "duration": 0.038666,
     "end_time": "2023-04-26T23:17:55.717289",
     "exception": false,
     "start_time": "2023-04-26T23:17:55.678623",
     "status": "completed"
    },
    "tags": []
   },
   "outputs": [
    {
     "data": {
      "text/html": [
       "<div>\n",
       "<style scoped>\n",
       "    .dataframe tbody tr th:only-of-type {\n",
       "        vertical-align: middle;\n",
       "    }\n",
       "\n",
       "    .dataframe tbody tr th {\n",
       "        vertical-align: top;\n",
       "    }\n",
       "\n",
       "    .dataframe thead th {\n",
       "        text-align: right;\n",
       "    }\n",
       "</style>\n",
       "<table border=\"1\" class=\"dataframe\">\n",
       "  <thead>\n",
       "    <tr style=\"text-align: right;\">\n",
       "      <th></th>\n",
       "      <th>Time</th>\n",
       "      <th>V1</th>\n",
       "      <th>V2</th>\n",
       "      <th>V3</th>\n",
       "      <th>V4</th>\n",
       "      <th>V5</th>\n",
       "      <th>V6</th>\n",
       "      <th>V7</th>\n",
       "      <th>V8</th>\n",
       "      <th>V9</th>\n",
       "      <th>...</th>\n",
       "      <th>V21</th>\n",
       "      <th>V22</th>\n",
       "      <th>V23</th>\n",
       "      <th>V24</th>\n",
       "      <th>V25</th>\n",
       "      <th>V26</th>\n",
       "      <th>V27</th>\n",
       "      <th>V28</th>\n",
       "      <th>Amount</th>\n",
       "      <th>Class</th>\n",
       "    </tr>\n",
       "  </thead>\n",
       "  <tbody>\n",
       "    <tr>\n",
       "      <th>284802</th>\n",
       "      <td>172786.0</td>\n",
       "      <td>-11.881118</td>\n",
       "      <td>10.071785</td>\n",
       "      <td>-9.834783</td>\n",
       "      <td>-2.066656</td>\n",
       "      <td>-5.364473</td>\n",
       "      <td>-2.606837</td>\n",
       "      <td>-4.918215</td>\n",
       "      <td>7.305334</td>\n",
       "      <td>1.914428</td>\n",
       "      <td>...</td>\n",
       "      <td>0.213454</td>\n",
       "      <td>0.111864</td>\n",
       "      <td>1.014480</td>\n",
       "      <td>-0.509348</td>\n",
       "      <td>1.436807</td>\n",
       "      <td>0.250034</td>\n",
       "      <td>0.943651</td>\n",
       "      <td>0.823731</td>\n",
       "      <td>0.77</td>\n",
       "      <td>0</td>\n",
       "    </tr>\n",
       "    <tr>\n",
       "      <th>284803</th>\n",
       "      <td>172787.0</td>\n",
       "      <td>-0.732789</td>\n",
       "      <td>-0.055080</td>\n",
       "      <td>2.035030</td>\n",
       "      <td>-0.738589</td>\n",
       "      <td>0.868229</td>\n",
       "      <td>1.058415</td>\n",
       "      <td>0.024330</td>\n",
       "      <td>0.294869</td>\n",
       "      <td>0.584800</td>\n",
       "      <td>...</td>\n",
       "      <td>0.214205</td>\n",
       "      <td>0.924384</td>\n",
       "      <td>0.012463</td>\n",
       "      <td>-1.016226</td>\n",
       "      <td>-0.606624</td>\n",
       "      <td>-0.395255</td>\n",
       "      <td>0.068472</td>\n",
       "      <td>-0.053527</td>\n",
       "      <td>24.79</td>\n",
       "      <td>0</td>\n",
       "    </tr>\n",
       "    <tr>\n",
       "      <th>284804</th>\n",
       "      <td>172788.0</td>\n",
       "      <td>1.919565</td>\n",
       "      <td>-0.301254</td>\n",
       "      <td>-3.249640</td>\n",
       "      <td>-0.557828</td>\n",
       "      <td>2.630515</td>\n",
       "      <td>3.031260</td>\n",
       "      <td>-0.296827</td>\n",
       "      <td>0.708417</td>\n",
       "      <td>0.432454</td>\n",
       "      <td>...</td>\n",
       "      <td>0.232045</td>\n",
       "      <td>0.578229</td>\n",
       "      <td>-0.037501</td>\n",
       "      <td>0.640134</td>\n",
       "      <td>0.265745</td>\n",
       "      <td>-0.087371</td>\n",
       "      <td>0.004455</td>\n",
       "      <td>-0.026561</td>\n",
       "      <td>67.88</td>\n",
       "      <td>0</td>\n",
       "    </tr>\n",
       "    <tr>\n",
       "      <th>284805</th>\n",
       "      <td>172788.0</td>\n",
       "      <td>-0.240440</td>\n",
       "      <td>0.530483</td>\n",
       "      <td>0.702510</td>\n",
       "      <td>0.689799</td>\n",
       "      <td>-0.377961</td>\n",
       "      <td>0.623708</td>\n",
       "      <td>-0.686180</td>\n",
       "      <td>0.679145</td>\n",
       "      <td>0.392087</td>\n",
       "      <td>...</td>\n",
       "      <td>0.265245</td>\n",
       "      <td>0.800049</td>\n",
       "      <td>-0.163298</td>\n",
       "      <td>0.123205</td>\n",
       "      <td>-0.569159</td>\n",
       "      <td>0.546668</td>\n",
       "      <td>0.108821</td>\n",
       "      <td>0.104533</td>\n",
       "      <td>10.00</td>\n",
       "      <td>0</td>\n",
       "    </tr>\n",
       "    <tr>\n",
       "      <th>284806</th>\n",
       "      <td>172792.0</td>\n",
       "      <td>-0.533413</td>\n",
       "      <td>-0.189733</td>\n",
       "      <td>0.703337</td>\n",
       "      <td>-0.506271</td>\n",
       "      <td>-0.012546</td>\n",
       "      <td>-0.649617</td>\n",
       "      <td>1.577006</td>\n",
       "      <td>-0.414650</td>\n",
       "      <td>0.486180</td>\n",
       "      <td>...</td>\n",
       "      <td>0.261057</td>\n",
       "      <td>0.643078</td>\n",
       "      <td>0.376777</td>\n",
       "      <td>0.008797</td>\n",
       "      <td>-0.473649</td>\n",
       "      <td>-0.818267</td>\n",
       "      <td>-0.002415</td>\n",
       "      <td>0.013649</td>\n",
       "      <td>217.00</td>\n",
       "      <td>0</td>\n",
       "    </tr>\n",
       "  </tbody>\n",
       "</table>\n",
       "<p>5 rows × 31 columns</p>\n",
       "</div>"
      ],
      "text/plain": [
       "            Time         V1         V2        V3        V4        V5  \\\n",
       "284802  172786.0 -11.881118  10.071785 -9.834783 -2.066656 -5.364473   \n",
       "284803  172787.0  -0.732789  -0.055080  2.035030 -0.738589  0.868229   \n",
       "284804  172788.0   1.919565  -0.301254 -3.249640 -0.557828  2.630515   \n",
       "284805  172788.0  -0.240440   0.530483  0.702510  0.689799 -0.377961   \n",
       "284806  172792.0  -0.533413  -0.189733  0.703337 -0.506271 -0.012546   \n",
       "\n",
       "              V6        V7        V8        V9  ...       V21       V22  \\\n",
       "284802 -2.606837 -4.918215  7.305334  1.914428  ...  0.213454  0.111864   \n",
       "284803  1.058415  0.024330  0.294869  0.584800  ...  0.214205  0.924384   \n",
       "284804  3.031260 -0.296827  0.708417  0.432454  ...  0.232045  0.578229   \n",
       "284805  0.623708 -0.686180  0.679145  0.392087  ...  0.265245  0.800049   \n",
       "284806 -0.649617  1.577006 -0.414650  0.486180  ...  0.261057  0.643078   \n",
       "\n",
       "             V23       V24       V25       V26       V27       V28  Amount  \\\n",
       "284802  1.014480 -0.509348  1.436807  0.250034  0.943651  0.823731    0.77   \n",
       "284803  0.012463 -1.016226 -0.606624 -0.395255  0.068472 -0.053527   24.79   \n",
       "284804 -0.037501  0.640134  0.265745 -0.087371  0.004455 -0.026561   67.88   \n",
       "284805 -0.163298  0.123205 -0.569159  0.546668  0.108821  0.104533   10.00   \n",
       "284806  0.376777  0.008797 -0.473649 -0.818267 -0.002415  0.013649  217.00   \n",
       "\n",
       "        Class  \n",
       "284802      0  \n",
       "284803      0  \n",
       "284804      0  \n",
       "284805      0  \n",
       "284806      0  \n",
       "\n",
       "[5 rows x 31 columns]"
      ]
     },
     "execution_count": 4,
     "metadata": {},
     "output_type": "execute_result"
    }
   ],
   "source": [
    "credit_card_data.tail()"
   ]
  },
  {
   "cell_type": "code",
   "execution_count": 5,
   "id": "1fad4d18",
   "metadata": {
    "execution": {
     "iopub.execute_input": "2023-04-26T23:17:55.738698Z",
     "iopub.status.busy": "2023-04-26T23:17:55.737592Z",
     "iopub.status.idle": "2023-04-26T23:17:55.744046Z",
     "shell.execute_reply": "2023-04-26T23:17:55.743001Z"
    },
    "papermill": {
     "duration": 0.019483,
     "end_time": "2023-04-26T23:17:55.746324",
     "exception": false,
     "start_time": "2023-04-26T23:17:55.726841",
     "status": "completed"
    },
    "tags": []
   },
   "outputs": [
    {
     "data": {
      "text/plain": [
       "(284807, 31)"
      ]
     },
     "execution_count": 5,
     "metadata": {},
     "output_type": "execute_result"
    }
   ],
   "source": [
    "# number of rows and columns in the dataset\n",
    "credit_card_data.shape"
   ]
  },
  {
   "cell_type": "code",
   "execution_count": 6,
   "id": "8a57138a",
   "metadata": {
    "execution": {
     "iopub.execute_input": "2023-04-26T23:17:55.766960Z",
     "iopub.status.busy": "2023-04-26T23:17:55.766582Z",
     "iopub.status.idle": "2023-04-26T23:17:55.810351Z",
     "shell.execute_reply": "2023-04-26T23:17:55.809465Z"
    },
    "papermill": {
     "duration": 0.057487,
     "end_time": "2023-04-26T23:17:55.813340",
     "exception": false,
     "start_time": "2023-04-26T23:17:55.755853",
     "status": "completed"
    },
    "tags": []
   },
   "outputs": [
    {
     "name": "stdout",
     "output_type": "stream",
     "text": [
      "<class 'pandas.core.frame.DataFrame'>\n",
      "RangeIndex: 284807 entries, 0 to 284806\n",
      "Data columns (total 31 columns):\n",
      " #   Column  Non-Null Count   Dtype  \n",
      "---  ------  --------------   -----  \n",
      " 0   Time    284807 non-null  float64\n",
      " 1   V1      284807 non-null  float64\n",
      " 2   V2      284807 non-null  float64\n",
      " 3   V3      284807 non-null  float64\n",
      " 4   V4      284807 non-null  float64\n",
      " 5   V5      284807 non-null  float64\n",
      " 6   V6      284807 non-null  float64\n",
      " 7   V7      284807 non-null  float64\n",
      " 8   V8      284807 non-null  float64\n",
      " 9   V9      284807 non-null  float64\n",
      " 10  V10     284807 non-null  float64\n",
      " 11  V11     284807 non-null  float64\n",
      " 12  V12     284807 non-null  float64\n",
      " 13  V13     284807 non-null  float64\n",
      " 14  V14     284807 non-null  float64\n",
      " 15  V15     284807 non-null  float64\n",
      " 16  V16     284807 non-null  float64\n",
      " 17  V17     284807 non-null  float64\n",
      " 18  V18     284807 non-null  float64\n",
      " 19  V19     284807 non-null  float64\n",
      " 20  V20     284807 non-null  float64\n",
      " 21  V21     284807 non-null  float64\n",
      " 22  V22     284807 non-null  float64\n",
      " 23  V23     284807 non-null  float64\n",
      " 24  V24     284807 non-null  float64\n",
      " 25  V25     284807 non-null  float64\n",
      " 26  V26     284807 non-null  float64\n",
      " 27  V27     284807 non-null  float64\n",
      " 28  V28     284807 non-null  float64\n",
      " 29  Amount  284807 non-null  float64\n",
      " 30  Class   284807 non-null  int64  \n",
      "dtypes: float64(30), int64(1)\n",
      "memory usage: 67.4 MB\n"
     ]
    }
   ],
   "source": [
    "# dataset informations\n",
    "credit_card_data.info()"
   ]
  },
  {
   "cell_type": "code",
   "execution_count": 7,
   "id": "d0259e76",
   "metadata": {
    "execution": {
     "iopub.execute_input": "2023-04-26T23:17:55.836141Z",
     "iopub.status.busy": "2023-04-26T23:17:55.835377Z",
     "iopub.status.idle": "2023-04-26T23:17:55.864354Z",
     "shell.execute_reply": "2023-04-26T23:17:55.863129Z"
    },
    "papermill": {
     "duration": 0.043542,
     "end_time": "2023-04-26T23:17:55.867730",
     "exception": false,
     "start_time": "2023-04-26T23:17:55.824188",
     "status": "completed"
    },
    "tags": []
   },
   "outputs": [
    {
     "data": {
      "text/plain": [
       "Time      0\n",
       "V1        0\n",
       "V2        0\n",
       "V3        0\n",
       "V4        0\n",
       "V5        0\n",
       "V6        0\n",
       "V7        0\n",
       "V8        0\n",
       "V9        0\n",
       "V10       0\n",
       "V11       0\n",
       "V12       0\n",
       "V13       0\n",
       "V14       0\n",
       "V15       0\n",
       "V16       0\n",
       "V17       0\n",
       "V18       0\n",
       "V19       0\n",
       "V20       0\n",
       "V21       0\n",
       "V22       0\n",
       "V23       0\n",
       "V24       0\n",
       "V25       0\n",
       "V26       0\n",
       "V27       0\n",
       "V28       0\n",
       "Amount    0\n",
       "Class     0\n",
       "dtype: int64"
      ]
     },
     "execution_count": 7,
     "metadata": {},
     "output_type": "execute_result"
    }
   ],
   "source": [
    "#checking for missing values\n",
    "credit_card_data.isnull().sum()"
   ]
  },
  {
   "cell_type": "code",
   "execution_count": 8,
   "id": "6dc8a3e9",
   "metadata": {
    "execution": {
     "iopub.execute_input": "2023-04-26T23:17:55.890522Z",
     "iopub.status.busy": "2023-04-26T23:17:55.889177Z",
     "iopub.status.idle": "2023-04-26T23:17:56.354238Z",
     "shell.execute_reply": "2023-04-26T23:17:56.352958Z"
    },
    "papermill": {
     "duration": 0.479443,
     "end_time": "2023-04-26T23:17:56.356970",
     "exception": false,
     "start_time": "2023-04-26T23:17:55.877527",
     "status": "completed"
    },
    "tags": []
   },
   "outputs": [
    {
     "data": {
      "text/html": [
       "<div>\n",
       "<style scoped>\n",
       "    .dataframe tbody tr th:only-of-type {\n",
       "        vertical-align: middle;\n",
       "    }\n",
       "\n",
       "    .dataframe tbody tr th {\n",
       "        vertical-align: top;\n",
       "    }\n",
       "\n",
       "    .dataframe thead th {\n",
       "        text-align: right;\n",
       "    }\n",
       "</style>\n",
       "<table border=\"1\" class=\"dataframe\">\n",
       "  <thead>\n",
       "    <tr style=\"text-align: right;\">\n",
       "      <th></th>\n",
       "      <th>Time</th>\n",
       "      <th>V1</th>\n",
       "      <th>V2</th>\n",
       "      <th>V3</th>\n",
       "      <th>V4</th>\n",
       "      <th>V5</th>\n",
       "      <th>V6</th>\n",
       "      <th>V7</th>\n",
       "      <th>V8</th>\n",
       "      <th>V9</th>\n",
       "      <th>...</th>\n",
       "      <th>V21</th>\n",
       "      <th>V22</th>\n",
       "      <th>V23</th>\n",
       "      <th>V24</th>\n",
       "      <th>V25</th>\n",
       "      <th>V26</th>\n",
       "      <th>V27</th>\n",
       "      <th>V28</th>\n",
       "      <th>Amount</th>\n",
       "      <th>Class</th>\n",
       "    </tr>\n",
       "  </thead>\n",
       "  <tbody>\n",
       "    <tr>\n",
       "      <th>count</th>\n",
       "      <td>284807.000000</td>\n",
       "      <td>2.848070e+05</td>\n",
       "      <td>2.848070e+05</td>\n",
       "      <td>2.848070e+05</td>\n",
       "      <td>2.848070e+05</td>\n",
       "      <td>2.848070e+05</td>\n",
       "      <td>2.848070e+05</td>\n",
       "      <td>2.848070e+05</td>\n",
       "      <td>2.848070e+05</td>\n",
       "      <td>2.848070e+05</td>\n",
       "      <td>...</td>\n",
       "      <td>2.848070e+05</td>\n",
       "      <td>2.848070e+05</td>\n",
       "      <td>2.848070e+05</td>\n",
       "      <td>2.848070e+05</td>\n",
       "      <td>2.848070e+05</td>\n",
       "      <td>2.848070e+05</td>\n",
       "      <td>2.848070e+05</td>\n",
       "      <td>2.848070e+05</td>\n",
       "      <td>284807.000000</td>\n",
       "      <td>284807.000000</td>\n",
       "    </tr>\n",
       "    <tr>\n",
       "      <th>mean</th>\n",
       "      <td>94813.859575</td>\n",
       "      <td>1.168375e-15</td>\n",
       "      <td>3.416908e-16</td>\n",
       "      <td>-1.379537e-15</td>\n",
       "      <td>2.074095e-15</td>\n",
       "      <td>9.604066e-16</td>\n",
       "      <td>1.487313e-15</td>\n",
       "      <td>-5.556467e-16</td>\n",
       "      <td>1.213481e-16</td>\n",
       "      <td>-2.406331e-15</td>\n",
       "      <td>...</td>\n",
       "      <td>1.654067e-16</td>\n",
       "      <td>-3.568593e-16</td>\n",
       "      <td>2.578648e-16</td>\n",
       "      <td>4.473266e-15</td>\n",
       "      <td>5.340915e-16</td>\n",
       "      <td>1.683437e-15</td>\n",
       "      <td>-3.660091e-16</td>\n",
       "      <td>-1.227390e-16</td>\n",
       "      <td>88.349619</td>\n",
       "      <td>0.001727</td>\n",
       "    </tr>\n",
       "    <tr>\n",
       "      <th>std</th>\n",
       "      <td>47488.145955</td>\n",
       "      <td>1.958696e+00</td>\n",
       "      <td>1.651309e+00</td>\n",
       "      <td>1.516255e+00</td>\n",
       "      <td>1.415869e+00</td>\n",
       "      <td>1.380247e+00</td>\n",
       "      <td>1.332271e+00</td>\n",
       "      <td>1.237094e+00</td>\n",
       "      <td>1.194353e+00</td>\n",
       "      <td>1.098632e+00</td>\n",
       "      <td>...</td>\n",
       "      <td>7.345240e-01</td>\n",
       "      <td>7.257016e-01</td>\n",
       "      <td>6.244603e-01</td>\n",
       "      <td>6.056471e-01</td>\n",
       "      <td>5.212781e-01</td>\n",
       "      <td>4.822270e-01</td>\n",
       "      <td>4.036325e-01</td>\n",
       "      <td>3.300833e-01</td>\n",
       "      <td>250.120109</td>\n",
       "      <td>0.041527</td>\n",
       "    </tr>\n",
       "    <tr>\n",
       "      <th>min</th>\n",
       "      <td>0.000000</td>\n",
       "      <td>-5.640751e+01</td>\n",
       "      <td>-7.271573e+01</td>\n",
       "      <td>-4.832559e+01</td>\n",
       "      <td>-5.683171e+00</td>\n",
       "      <td>-1.137433e+02</td>\n",
       "      <td>-2.616051e+01</td>\n",
       "      <td>-4.355724e+01</td>\n",
       "      <td>-7.321672e+01</td>\n",
       "      <td>-1.343407e+01</td>\n",
       "      <td>...</td>\n",
       "      <td>-3.483038e+01</td>\n",
       "      <td>-1.093314e+01</td>\n",
       "      <td>-4.480774e+01</td>\n",
       "      <td>-2.836627e+00</td>\n",
       "      <td>-1.029540e+01</td>\n",
       "      <td>-2.604551e+00</td>\n",
       "      <td>-2.256568e+01</td>\n",
       "      <td>-1.543008e+01</td>\n",
       "      <td>0.000000</td>\n",
       "      <td>0.000000</td>\n",
       "    </tr>\n",
       "    <tr>\n",
       "      <th>25%</th>\n",
       "      <td>54201.500000</td>\n",
       "      <td>-9.203734e-01</td>\n",
       "      <td>-5.985499e-01</td>\n",
       "      <td>-8.903648e-01</td>\n",
       "      <td>-8.486401e-01</td>\n",
       "      <td>-6.915971e-01</td>\n",
       "      <td>-7.682956e-01</td>\n",
       "      <td>-5.540759e-01</td>\n",
       "      <td>-2.086297e-01</td>\n",
       "      <td>-6.430976e-01</td>\n",
       "      <td>...</td>\n",
       "      <td>-2.283949e-01</td>\n",
       "      <td>-5.423504e-01</td>\n",
       "      <td>-1.618463e-01</td>\n",
       "      <td>-3.545861e-01</td>\n",
       "      <td>-3.171451e-01</td>\n",
       "      <td>-3.269839e-01</td>\n",
       "      <td>-7.083953e-02</td>\n",
       "      <td>-5.295979e-02</td>\n",
       "      <td>5.600000</td>\n",
       "      <td>0.000000</td>\n",
       "    </tr>\n",
       "    <tr>\n",
       "      <th>50%</th>\n",
       "      <td>84692.000000</td>\n",
       "      <td>1.810880e-02</td>\n",
       "      <td>6.548556e-02</td>\n",
       "      <td>1.798463e-01</td>\n",
       "      <td>-1.984653e-02</td>\n",
       "      <td>-5.433583e-02</td>\n",
       "      <td>-2.741871e-01</td>\n",
       "      <td>4.010308e-02</td>\n",
       "      <td>2.235804e-02</td>\n",
       "      <td>-5.142873e-02</td>\n",
       "      <td>...</td>\n",
       "      <td>-2.945017e-02</td>\n",
       "      <td>6.781943e-03</td>\n",
       "      <td>-1.119293e-02</td>\n",
       "      <td>4.097606e-02</td>\n",
       "      <td>1.659350e-02</td>\n",
       "      <td>-5.213911e-02</td>\n",
       "      <td>1.342146e-03</td>\n",
       "      <td>1.124383e-02</td>\n",
       "      <td>22.000000</td>\n",
       "      <td>0.000000</td>\n",
       "    </tr>\n",
       "    <tr>\n",
       "      <th>75%</th>\n",
       "      <td>139320.500000</td>\n",
       "      <td>1.315642e+00</td>\n",
       "      <td>8.037239e-01</td>\n",
       "      <td>1.027196e+00</td>\n",
       "      <td>7.433413e-01</td>\n",
       "      <td>6.119264e-01</td>\n",
       "      <td>3.985649e-01</td>\n",
       "      <td>5.704361e-01</td>\n",
       "      <td>3.273459e-01</td>\n",
       "      <td>5.971390e-01</td>\n",
       "      <td>...</td>\n",
       "      <td>1.863772e-01</td>\n",
       "      <td>5.285536e-01</td>\n",
       "      <td>1.476421e-01</td>\n",
       "      <td>4.395266e-01</td>\n",
       "      <td>3.507156e-01</td>\n",
       "      <td>2.409522e-01</td>\n",
       "      <td>9.104512e-02</td>\n",
       "      <td>7.827995e-02</td>\n",
       "      <td>77.165000</td>\n",
       "      <td>0.000000</td>\n",
       "    </tr>\n",
       "    <tr>\n",
       "      <th>max</th>\n",
       "      <td>172792.000000</td>\n",
       "      <td>2.454930e+00</td>\n",
       "      <td>2.205773e+01</td>\n",
       "      <td>9.382558e+00</td>\n",
       "      <td>1.687534e+01</td>\n",
       "      <td>3.480167e+01</td>\n",
       "      <td>7.330163e+01</td>\n",
       "      <td>1.205895e+02</td>\n",
       "      <td>2.000721e+01</td>\n",
       "      <td>1.559499e+01</td>\n",
       "      <td>...</td>\n",
       "      <td>2.720284e+01</td>\n",
       "      <td>1.050309e+01</td>\n",
       "      <td>2.252841e+01</td>\n",
       "      <td>4.584549e+00</td>\n",
       "      <td>7.519589e+00</td>\n",
       "      <td>3.517346e+00</td>\n",
       "      <td>3.161220e+01</td>\n",
       "      <td>3.384781e+01</td>\n",
       "      <td>25691.160000</td>\n",
       "      <td>1.000000</td>\n",
       "    </tr>\n",
       "  </tbody>\n",
       "</table>\n",
       "<p>8 rows × 31 columns</p>\n",
       "</div>"
      ],
      "text/plain": [
       "                Time            V1            V2            V3            V4  \\\n",
       "count  284807.000000  2.848070e+05  2.848070e+05  2.848070e+05  2.848070e+05   \n",
       "mean    94813.859575  1.168375e-15  3.416908e-16 -1.379537e-15  2.074095e-15   \n",
       "std     47488.145955  1.958696e+00  1.651309e+00  1.516255e+00  1.415869e+00   \n",
       "min         0.000000 -5.640751e+01 -7.271573e+01 -4.832559e+01 -5.683171e+00   \n",
       "25%     54201.500000 -9.203734e-01 -5.985499e-01 -8.903648e-01 -8.486401e-01   \n",
       "50%     84692.000000  1.810880e-02  6.548556e-02  1.798463e-01 -1.984653e-02   \n",
       "75%    139320.500000  1.315642e+00  8.037239e-01  1.027196e+00  7.433413e-01   \n",
       "max    172792.000000  2.454930e+00  2.205773e+01  9.382558e+00  1.687534e+01   \n",
       "\n",
       "                 V5            V6            V7            V8            V9  \\\n",
       "count  2.848070e+05  2.848070e+05  2.848070e+05  2.848070e+05  2.848070e+05   \n",
       "mean   9.604066e-16  1.487313e-15 -5.556467e-16  1.213481e-16 -2.406331e-15   \n",
       "std    1.380247e+00  1.332271e+00  1.237094e+00  1.194353e+00  1.098632e+00   \n",
       "min   -1.137433e+02 -2.616051e+01 -4.355724e+01 -7.321672e+01 -1.343407e+01   \n",
       "25%   -6.915971e-01 -7.682956e-01 -5.540759e-01 -2.086297e-01 -6.430976e-01   \n",
       "50%   -5.433583e-02 -2.741871e-01  4.010308e-02  2.235804e-02 -5.142873e-02   \n",
       "75%    6.119264e-01  3.985649e-01  5.704361e-01  3.273459e-01  5.971390e-01   \n",
       "max    3.480167e+01  7.330163e+01  1.205895e+02  2.000721e+01  1.559499e+01   \n",
       "\n",
       "       ...           V21           V22           V23           V24  \\\n",
       "count  ...  2.848070e+05  2.848070e+05  2.848070e+05  2.848070e+05   \n",
       "mean   ...  1.654067e-16 -3.568593e-16  2.578648e-16  4.473266e-15   \n",
       "std    ...  7.345240e-01  7.257016e-01  6.244603e-01  6.056471e-01   \n",
       "min    ... -3.483038e+01 -1.093314e+01 -4.480774e+01 -2.836627e+00   \n",
       "25%    ... -2.283949e-01 -5.423504e-01 -1.618463e-01 -3.545861e-01   \n",
       "50%    ... -2.945017e-02  6.781943e-03 -1.119293e-02  4.097606e-02   \n",
       "75%    ...  1.863772e-01  5.285536e-01  1.476421e-01  4.395266e-01   \n",
       "max    ...  2.720284e+01  1.050309e+01  2.252841e+01  4.584549e+00   \n",
       "\n",
       "                V25           V26           V27           V28         Amount  \\\n",
       "count  2.848070e+05  2.848070e+05  2.848070e+05  2.848070e+05  284807.000000   \n",
       "mean   5.340915e-16  1.683437e-15 -3.660091e-16 -1.227390e-16      88.349619   \n",
       "std    5.212781e-01  4.822270e-01  4.036325e-01  3.300833e-01     250.120109   \n",
       "min   -1.029540e+01 -2.604551e+00 -2.256568e+01 -1.543008e+01       0.000000   \n",
       "25%   -3.171451e-01 -3.269839e-01 -7.083953e-02 -5.295979e-02       5.600000   \n",
       "50%    1.659350e-02 -5.213911e-02  1.342146e-03  1.124383e-02      22.000000   \n",
       "75%    3.507156e-01  2.409522e-01  9.104512e-02  7.827995e-02      77.165000   \n",
       "max    7.519589e+00  3.517346e+00  3.161220e+01  3.384781e+01   25691.160000   \n",
       "\n",
       "               Class  \n",
       "count  284807.000000  \n",
       "mean        0.001727  \n",
       "std         0.041527  \n",
       "min         0.000000  \n",
       "25%         0.000000  \n",
       "50%         0.000000  \n",
       "75%         0.000000  \n",
       "max         1.000000  \n",
       "\n",
       "[8 rows x 31 columns]"
      ]
     },
     "execution_count": 8,
     "metadata": {},
     "output_type": "execute_result"
    }
   ],
   "source": [
    "# statistical measures about the data\n",
    "credit_card_data.describe()"
   ]
  },
  {
   "cell_type": "code",
   "execution_count": 9,
   "id": "f1f67692",
   "metadata": {
    "execution": {
     "iopub.execute_input": "2023-04-26T23:17:56.379572Z",
     "iopub.status.busy": "2023-04-26T23:17:56.379183Z",
     "iopub.status.idle": "2023-04-26T23:17:56.389549Z",
     "shell.execute_reply": "2023-04-26T23:17:56.388415Z"
    },
    "papermill": {
     "duration": 0.024414,
     "end_time": "2023-04-26T23:17:56.391983",
     "exception": false,
     "start_time": "2023-04-26T23:17:56.367569",
     "status": "completed"
    },
    "tags": []
   },
   "outputs": [
    {
     "data": {
      "text/plain": [
       "0    284315\n",
       "1       492\n",
       "Name: Class, dtype: int64"
      ]
     },
     "execution_count": 9,
     "metadata": {},
     "output_type": "execute_result"
    }
   ],
   "source": [
    "# distribution of legit transactions & fraudulent transactions\n",
    "credit_card_data['Class'].value_counts()"
   ]
  },
  {
   "cell_type": "markdown",
   "id": "8ae76988",
   "metadata": {
    "papermill": {
     "duration": 0.009789,
     "end_time": "2023-04-26T23:17:56.411972",
     "exception": false,
     "start_time": "2023-04-26T23:17:56.402183",
     "status": "completed"
    },
    "tags": []
   },
   "source": [
    "Since there is a large imbalance in the dataset, we divide it into two separate sets and process it."
   ]
  },
  {
   "cell_type": "markdown",
   "id": "c7b9dfc0",
   "metadata": {
    "papermill": {
     "duration": 0.010157,
     "end_time": "2023-04-26T23:17:56.432469",
     "exception": false,
     "start_time": "2023-04-26T23:17:56.422312",
     "status": "completed"
    },
    "tags": []
   },
   "source": [
    "0 -->> Legit\n",
    "\n",
    "1 -->> Fraudulent"
   ]
  },
  {
   "cell_type": "code",
   "execution_count": 10,
   "id": "ed241935",
   "metadata": {
    "execution": {
     "iopub.execute_input": "2023-04-26T23:17:56.454842Z",
     "iopub.status.busy": "2023-04-26T23:17:56.454423Z",
     "iopub.status.idle": "2023-04-26T23:17:56.495310Z",
     "shell.execute_reply": "2023-04-26T23:17:56.494205Z"
    },
    "papermill": {
     "duration": 0.055571,
     "end_time": "2023-04-26T23:17:56.498171",
     "exception": false,
     "start_time": "2023-04-26T23:17:56.442600",
     "status": "completed"
    },
    "tags": []
   },
   "outputs": [],
   "source": [
    "# separating the data for analysis\n",
    "legit = credit_card_data[credit_card_data.Class == 0]\n",
    "fraud = credit_card_data[credit_card_data.Class == 1]"
   ]
  },
  {
   "cell_type": "code",
   "execution_count": 11,
   "id": "f8adfc83",
   "metadata": {
    "execution": {
     "iopub.execute_input": "2023-04-26T23:17:56.521825Z",
     "iopub.status.busy": "2023-04-26T23:17:56.520680Z",
     "iopub.status.idle": "2023-04-26T23:17:56.527384Z",
     "shell.execute_reply": "2023-04-26T23:17:56.526155Z"
    },
    "papermill": {
     "duration": 0.020689,
     "end_time": "2023-04-26T23:17:56.529726",
     "exception": false,
     "start_time": "2023-04-26T23:17:56.509037",
     "status": "completed"
    },
    "tags": []
   },
   "outputs": [
    {
     "name": "stdout",
     "output_type": "stream",
     "text": [
      "(284315, 31)\n",
      "(492, 31)\n"
     ]
    }
   ],
   "source": [
    "print(legit.shape)\n",
    "print(fraud.shape)"
   ]
  },
  {
   "cell_type": "code",
   "execution_count": 12,
   "id": "71ede3f5",
   "metadata": {
    "execution": {
     "iopub.execute_input": "2023-04-26T23:17:56.552570Z",
     "iopub.status.busy": "2023-04-26T23:17:56.551480Z",
     "iopub.status.idle": "2023-04-26T23:17:56.574051Z",
     "shell.execute_reply": "2023-04-26T23:17:56.572617Z"
    },
    "papermill": {
     "duration": 0.036802,
     "end_time": "2023-04-26T23:17:56.576750",
     "exception": false,
     "start_time": "2023-04-26T23:17:56.539948",
     "status": "completed"
    },
    "tags": []
   },
   "outputs": [
    {
     "data": {
      "text/plain": [
       "count    284315.000000\n",
       "mean         88.291022\n",
       "std         250.105092\n",
       "min           0.000000\n",
       "25%           5.650000\n",
       "50%          22.000000\n",
       "75%          77.050000\n",
       "max       25691.160000\n",
       "Name: Amount, dtype: float64"
      ]
     },
     "execution_count": 12,
     "metadata": {},
     "output_type": "execute_result"
    }
   ],
   "source": [
    "# statistical measures of the data\n",
    "legit.Amount.describe()"
   ]
  },
  {
   "cell_type": "code",
   "execution_count": 13,
   "id": "eaf9b365",
   "metadata": {
    "execution": {
     "iopub.execute_input": "2023-04-26T23:17:56.599813Z",
     "iopub.status.busy": "2023-04-26T23:17:56.599154Z",
     "iopub.status.idle": "2023-04-26T23:17:56.611001Z",
     "shell.execute_reply": "2023-04-26T23:17:56.609785Z"
    },
    "papermill": {
     "duration": 0.026122,
     "end_time": "2023-04-26T23:17:56.613463",
     "exception": false,
     "start_time": "2023-04-26T23:17:56.587341",
     "status": "completed"
    },
    "tags": []
   },
   "outputs": [
    {
     "data": {
      "text/plain": [
       "count     492.000000\n",
       "mean      122.211321\n",
       "std       256.683288\n",
       "min         0.000000\n",
       "25%         1.000000\n",
       "50%         9.250000\n",
       "75%       105.890000\n",
       "max      2125.870000\n",
       "Name: Amount, dtype: float64"
      ]
     },
     "execution_count": 13,
     "metadata": {},
     "output_type": "execute_result"
    }
   ],
   "source": [
    "fraud.Amount.describe()"
   ]
  },
  {
   "cell_type": "code",
   "execution_count": 14,
   "id": "bcbaef10",
   "metadata": {
    "execution": {
     "iopub.execute_input": "2023-04-26T23:17:56.636149Z",
     "iopub.status.busy": "2023-04-26T23:17:56.635740Z",
     "iopub.status.idle": "2023-04-26T23:17:56.766755Z",
     "shell.execute_reply": "2023-04-26T23:17:56.765469Z"
    },
    "papermill": {
     "duration": 0.145316,
     "end_time": "2023-04-26T23:17:56.769380",
     "exception": false,
     "start_time": "2023-04-26T23:17:56.624064",
     "status": "completed"
    },
    "tags": []
   },
   "outputs": [
    {
     "data": {
      "text/html": [
       "<div>\n",
       "<style scoped>\n",
       "    .dataframe tbody tr th:only-of-type {\n",
       "        vertical-align: middle;\n",
       "    }\n",
       "\n",
       "    .dataframe tbody tr th {\n",
       "        vertical-align: top;\n",
       "    }\n",
       "\n",
       "    .dataframe thead th {\n",
       "        text-align: right;\n",
       "    }\n",
       "</style>\n",
       "<table border=\"1\" class=\"dataframe\">\n",
       "  <thead>\n",
       "    <tr style=\"text-align: right;\">\n",
       "      <th></th>\n",
       "      <th>Time</th>\n",
       "      <th>V1</th>\n",
       "      <th>V2</th>\n",
       "      <th>V3</th>\n",
       "      <th>V4</th>\n",
       "      <th>V5</th>\n",
       "      <th>V6</th>\n",
       "      <th>V7</th>\n",
       "      <th>V8</th>\n",
       "      <th>V9</th>\n",
       "      <th>...</th>\n",
       "      <th>V20</th>\n",
       "      <th>V21</th>\n",
       "      <th>V22</th>\n",
       "      <th>V23</th>\n",
       "      <th>V24</th>\n",
       "      <th>V25</th>\n",
       "      <th>V26</th>\n",
       "      <th>V27</th>\n",
       "      <th>V28</th>\n",
       "      <th>Amount</th>\n",
       "    </tr>\n",
       "    <tr>\n",
       "      <th>Class</th>\n",
       "      <th></th>\n",
       "      <th></th>\n",
       "      <th></th>\n",
       "      <th></th>\n",
       "      <th></th>\n",
       "      <th></th>\n",
       "      <th></th>\n",
       "      <th></th>\n",
       "      <th></th>\n",
       "      <th></th>\n",
       "      <th></th>\n",
       "      <th></th>\n",
       "      <th></th>\n",
       "      <th></th>\n",
       "      <th></th>\n",
       "      <th></th>\n",
       "      <th></th>\n",
       "      <th></th>\n",
       "      <th></th>\n",
       "      <th></th>\n",
       "      <th></th>\n",
       "    </tr>\n",
       "  </thead>\n",
       "  <tbody>\n",
       "    <tr>\n",
       "      <th>0</th>\n",
       "      <td>94838.202258</td>\n",
       "      <td>0.008258</td>\n",
       "      <td>-0.006271</td>\n",
       "      <td>0.012171</td>\n",
       "      <td>-0.007860</td>\n",
       "      <td>0.005453</td>\n",
       "      <td>0.002419</td>\n",
       "      <td>0.009637</td>\n",
       "      <td>-0.000987</td>\n",
       "      <td>0.004467</td>\n",
       "      <td>...</td>\n",
       "      <td>-0.000644</td>\n",
       "      <td>-0.001235</td>\n",
       "      <td>-0.000024</td>\n",
       "      <td>0.000070</td>\n",
       "      <td>0.000182</td>\n",
       "      <td>-0.000072</td>\n",
       "      <td>-0.000089</td>\n",
       "      <td>-0.000295</td>\n",
       "      <td>-0.000131</td>\n",
       "      <td>88.291022</td>\n",
       "    </tr>\n",
       "    <tr>\n",
       "      <th>1</th>\n",
       "      <td>80746.806911</td>\n",
       "      <td>-4.771948</td>\n",
       "      <td>3.623778</td>\n",
       "      <td>-7.033281</td>\n",
       "      <td>4.542029</td>\n",
       "      <td>-3.151225</td>\n",
       "      <td>-1.397737</td>\n",
       "      <td>-5.568731</td>\n",
       "      <td>0.570636</td>\n",
       "      <td>-2.581123</td>\n",
       "      <td>...</td>\n",
       "      <td>0.372319</td>\n",
       "      <td>0.713588</td>\n",
       "      <td>0.014049</td>\n",
       "      <td>-0.040308</td>\n",
       "      <td>-0.105130</td>\n",
       "      <td>0.041449</td>\n",
       "      <td>0.051648</td>\n",
       "      <td>0.170575</td>\n",
       "      <td>0.075667</td>\n",
       "      <td>122.211321</td>\n",
       "    </tr>\n",
       "  </tbody>\n",
       "</table>\n",
       "<p>2 rows × 30 columns</p>\n",
       "</div>"
      ],
      "text/plain": [
       "               Time        V1        V2        V3        V4        V5  \\\n",
       "Class                                                                   \n",
       "0      94838.202258  0.008258 -0.006271  0.012171 -0.007860  0.005453   \n",
       "1      80746.806911 -4.771948  3.623778 -7.033281  4.542029 -3.151225   \n",
       "\n",
       "             V6        V7        V8        V9  ...       V20       V21  \\\n",
       "Class                                          ...                       \n",
       "0      0.002419  0.009637 -0.000987  0.004467  ... -0.000644 -0.001235   \n",
       "1     -1.397737 -5.568731  0.570636 -2.581123  ...  0.372319  0.713588   \n",
       "\n",
       "            V22       V23       V24       V25       V26       V27       V28  \\\n",
       "Class                                                                         \n",
       "0     -0.000024  0.000070  0.000182 -0.000072 -0.000089 -0.000295 -0.000131   \n",
       "1      0.014049 -0.040308 -0.105130  0.041449  0.051648  0.170575  0.075667   \n",
       "\n",
       "           Amount  \n",
       "Class              \n",
       "0       88.291022  \n",
       "1      122.211321  \n",
       "\n",
       "[2 rows x 30 columns]"
      ]
     },
     "execution_count": 14,
     "metadata": {},
     "output_type": "execute_result"
    }
   ],
   "source": [
    "#compare the values fot both transactions\n",
    "credit_card_data.groupby('Class').mean()"
   ]
  },
  {
   "cell_type": "markdown",
   "id": "0241dfcd",
   "metadata": {
    "papermill": {
     "duration": 0.010383,
     "end_time": "2023-04-26T23:17:56.790886",
     "exception": false,
     "start_time": "2023-04-26T23:17:56.780503",
     "status": "completed"
    },
    "tags": []
   },
   "source": [
    "Under-Sampling\n",
    "\n",
    "Build a sample dataset containing similar distribution of Normal Transactions and Fraudulent Transactions\n",
    "\n",
    "Number of Fraudulent Transactions --> 492"
   ]
  },
  {
   "cell_type": "code",
   "execution_count": 15,
   "id": "125578a6",
   "metadata": {
    "execution": {
     "iopub.execute_input": "2023-04-26T23:17:56.814269Z",
     "iopub.status.busy": "2023-04-26T23:17:56.813854Z",
     "iopub.status.idle": "2023-04-26T23:17:56.828282Z",
     "shell.execute_reply": "2023-04-26T23:17:56.827124Z"
    },
    "papermill": {
     "duration": 0.029414,
     "end_time": "2023-04-26T23:17:56.831039",
     "exception": false,
     "start_time": "2023-04-26T23:17:56.801625",
     "status": "completed"
    },
    "tags": []
   },
   "outputs": [],
   "source": [
    "legit_sample = legit.sample(n=492)"
   ]
  },
  {
   "cell_type": "markdown",
   "id": "5d7e97fc",
   "metadata": {
    "papermill": {
     "duration": 0.010416,
     "end_time": "2023-04-26T23:17:56.852596",
     "exception": false,
     "start_time": "2023-04-26T23:17:56.842180",
     "status": "completed"
    },
    "tags": []
   },
   "source": [
    "Concatenating two DataFrames"
   ]
  },
  {
   "cell_type": "code",
   "execution_count": 16,
   "id": "7f003c8b",
   "metadata": {
    "execution": {
     "iopub.execute_input": "2023-04-26T23:17:56.876384Z",
     "iopub.status.busy": "2023-04-26T23:17:56.875401Z",
     "iopub.status.idle": "2023-04-26T23:17:56.882092Z",
     "shell.execute_reply": "2023-04-26T23:17:56.881007Z"
    },
    "papermill": {
     "duration": 0.021184,
     "end_time": "2023-04-26T23:17:56.884461",
     "exception": false,
     "start_time": "2023-04-26T23:17:56.863277",
     "status": "completed"
    },
    "tags": []
   },
   "outputs": [],
   "source": [
    "new_dataset = pd.concat([legit_sample, fraud], axis=0)"
   ]
  },
  {
   "cell_type": "code",
   "execution_count": 17,
   "id": "05b5dd84",
   "metadata": {
    "execution": {
     "iopub.execute_input": "2023-04-26T23:17:56.908509Z",
     "iopub.status.busy": "2023-04-26T23:17:56.907374Z",
     "iopub.status.idle": "2023-04-26T23:17:56.932710Z",
     "shell.execute_reply": "2023-04-26T23:17:56.931556Z"
    },
    "papermill": {
     "duration": 0.039652,
     "end_time": "2023-04-26T23:17:56.935151",
     "exception": false,
     "start_time": "2023-04-26T23:17:56.895499",
     "status": "completed"
    },
    "tags": []
   },
   "outputs": [
    {
     "data": {
      "text/html": [
       "<div>\n",
       "<style scoped>\n",
       "    .dataframe tbody tr th:only-of-type {\n",
       "        vertical-align: middle;\n",
       "    }\n",
       "\n",
       "    .dataframe tbody tr th {\n",
       "        vertical-align: top;\n",
       "    }\n",
       "\n",
       "    .dataframe thead th {\n",
       "        text-align: right;\n",
       "    }\n",
       "</style>\n",
       "<table border=\"1\" class=\"dataframe\">\n",
       "  <thead>\n",
       "    <tr style=\"text-align: right;\">\n",
       "      <th></th>\n",
       "      <th>Time</th>\n",
       "      <th>V1</th>\n",
       "      <th>V2</th>\n",
       "      <th>V3</th>\n",
       "      <th>V4</th>\n",
       "      <th>V5</th>\n",
       "      <th>V6</th>\n",
       "      <th>V7</th>\n",
       "      <th>V8</th>\n",
       "      <th>V9</th>\n",
       "      <th>...</th>\n",
       "      <th>V21</th>\n",
       "      <th>V22</th>\n",
       "      <th>V23</th>\n",
       "      <th>V24</th>\n",
       "      <th>V25</th>\n",
       "      <th>V26</th>\n",
       "      <th>V27</th>\n",
       "      <th>V28</th>\n",
       "      <th>Amount</th>\n",
       "      <th>Class</th>\n",
       "    </tr>\n",
       "  </thead>\n",
       "  <tbody>\n",
       "    <tr>\n",
       "      <th>262113</th>\n",
       "      <td>160320.0</td>\n",
       "      <td>1.929398</td>\n",
       "      <td>-1.053178</td>\n",
       "      <td>-0.900904</td>\n",
       "      <td>-0.585950</td>\n",
       "      <td>-0.372635</td>\n",
       "      <td>0.557596</td>\n",
       "      <td>-0.725937</td>\n",
       "      <td>0.055606</td>\n",
       "      <td>-0.293741</td>\n",
       "      <td>...</td>\n",
       "      <td>-0.519742</td>\n",
       "      <td>-1.120443</td>\n",
       "      <td>0.280017</td>\n",
       "      <td>-0.198039</td>\n",
       "      <td>-0.429442</td>\n",
       "      <td>-0.677078</td>\n",
       "      <td>0.036777</td>\n",
       "      <td>-0.017379</td>\n",
       "      <td>111.59</td>\n",
       "      <td>0</td>\n",
       "    </tr>\n",
       "    <tr>\n",
       "      <th>124859</th>\n",
       "      <td>77449.0</td>\n",
       "      <td>1.087845</td>\n",
       "      <td>0.522904</td>\n",
       "      <td>0.275704</td>\n",
       "      <td>2.474583</td>\n",
       "      <td>0.213114</td>\n",
       "      <td>-0.225345</td>\n",
       "      <td>0.389247</td>\n",
       "      <td>-0.100848</td>\n",
       "      <td>-0.960723</td>\n",
       "      <td>...</td>\n",
       "      <td>0.007535</td>\n",
       "      <td>-0.054694</td>\n",
       "      <td>-0.061887</td>\n",
       "      <td>0.083010</td>\n",
       "      <td>0.527815</td>\n",
       "      <td>0.030754</td>\n",
       "      <td>-0.017737</td>\n",
       "      <td>0.020217</td>\n",
       "      <td>45.95</td>\n",
       "      <td>0</td>\n",
       "    </tr>\n",
       "    <tr>\n",
       "      <th>214931</th>\n",
       "      <td>139875.0</td>\n",
       "      <td>-1.413456</td>\n",
       "      <td>0.711533</td>\n",
       "      <td>1.349652</td>\n",
       "      <td>-0.684450</td>\n",
       "      <td>-0.329830</td>\n",
       "      <td>-0.375560</td>\n",
       "      <td>0.781164</td>\n",
       "      <td>-0.241456</td>\n",
       "      <td>1.140071</td>\n",
       "      <td>...</td>\n",
       "      <td>0.000214</td>\n",
       "      <td>0.884008</td>\n",
       "      <td>-0.359273</td>\n",
       "      <td>0.115841</td>\n",
       "      <td>-0.044447</td>\n",
       "      <td>0.554139</td>\n",
       "      <td>-0.117028</td>\n",
       "      <td>-0.435692</td>\n",
       "      <td>74.04</td>\n",
       "      <td>0</td>\n",
       "    </tr>\n",
       "    <tr>\n",
       "      <th>191526</th>\n",
       "      <td>129296.0</td>\n",
       "      <td>-0.235179</td>\n",
       "      <td>0.333118</td>\n",
       "      <td>-0.115691</td>\n",
       "      <td>-0.350307</td>\n",
       "      <td>0.605701</td>\n",
       "      <td>-0.679459</td>\n",
       "      <td>0.658527</td>\n",
       "      <td>-0.045916</td>\n",
       "      <td>0.315881</td>\n",
       "      <td>...</td>\n",
       "      <td>-0.137698</td>\n",
       "      <td>-0.411278</td>\n",
       "      <td>0.288115</td>\n",
       "      <td>-0.504035</td>\n",
       "      <td>-0.778931</td>\n",
       "      <td>-0.643073</td>\n",
       "      <td>-0.134275</td>\n",
       "      <td>0.117489</td>\n",
       "      <td>9.99</td>\n",
       "      <td>0</td>\n",
       "    </tr>\n",
       "    <tr>\n",
       "      <th>46716</th>\n",
       "      <td>42898.0</td>\n",
       "      <td>-0.734962</td>\n",
       "      <td>1.071963</td>\n",
       "      <td>1.068115</td>\n",
       "      <td>-0.197308</td>\n",
       "      <td>0.920102</td>\n",
       "      <td>-1.504670</td>\n",
       "      <td>1.224436</td>\n",
       "      <td>-0.349854</td>\n",
       "      <td>-0.489773</td>\n",
       "      <td>...</td>\n",
       "      <td>-0.154689</td>\n",
       "      <td>-0.438130</td>\n",
       "      <td>-0.399004</td>\n",
       "      <td>0.227075</td>\n",
       "      <td>0.503400</td>\n",
       "      <td>0.270448</td>\n",
       "      <td>-0.190780</td>\n",
       "      <td>-0.137089</td>\n",
       "      <td>0.76</td>\n",
       "      <td>0</td>\n",
       "    </tr>\n",
       "  </tbody>\n",
       "</table>\n",
       "<p>5 rows × 31 columns</p>\n",
       "</div>"
      ],
      "text/plain": [
       "            Time        V1        V2        V3        V4        V5        V6  \\\n",
       "262113  160320.0  1.929398 -1.053178 -0.900904 -0.585950 -0.372635  0.557596   \n",
       "124859   77449.0  1.087845  0.522904  0.275704  2.474583  0.213114 -0.225345   \n",
       "214931  139875.0 -1.413456  0.711533  1.349652 -0.684450 -0.329830 -0.375560   \n",
       "191526  129296.0 -0.235179  0.333118 -0.115691 -0.350307  0.605701 -0.679459   \n",
       "46716    42898.0 -0.734962  1.071963  1.068115 -0.197308  0.920102 -1.504670   \n",
       "\n",
       "              V7        V8        V9  ...       V21       V22       V23  \\\n",
       "262113 -0.725937  0.055606 -0.293741  ... -0.519742 -1.120443  0.280017   \n",
       "124859  0.389247 -0.100848 -0.960723  ...  0.007535 -0.054694 -0.061887   \n",
       "214931  0.781164 -0.241456  1.140071  ...  0.000214  0.884008 -0.359273   \n",
       "191526  0.658527 -0.045916  0.315881  ... -0.137698 -0.411278  0.288115   \n",
       "46716   1.224436 -0.349854 -0.489773  ... -0.154689 -0.438130 -0.399004   \n",
       "\n",
       "             V24       V25       V26       V27       V28  Amount  Class  \n",
       "262113 -0.198039 -0.429442 -0.677078  0.036777 -0.017379  111.59      0  \n",
       "124859  0.083010  0.527815  0.030754 -0.017737  0.020217   45.95      0  \n",
       "214931  0.115841 -0.044447  0.554139 -0.117028 -0.435692   74.04      0  \n",
       "191526 -0.504035 -0.778931 -0.643073 -0.134275  0.117489    9.99      0  \n",
       "46716   0.227075  0.503400  0.270448 -0.190780 -0.137089    0.76      0  \n",
       "\n",
       "[5 rows x 31 columns]"
      ]
     },
     "execution_count": 17,
     "metadata": {},
     "output_type": "execute_result"
    }
   ],
   "source": [
    "new_dataset.head()"
   ]
  },
  {
   "cell_type": "code",
   "execution_count": 18,
   "id": "f00aa947",
   "metadata": {
    "execution": {
     "iopub.execute_input": "2023-04-26T23:17:56.959384Z",
     "iopub.status.busy": "2023-04-26T23:17:56.958972Z",
     "iopub.status.idle": "2023-04-26T23:17:56.985403Z",
     "shell.execute_reply": "2023-04-26T23:17:56.984148Z"
    },
    "papermill": {
     "duration": 0.041682,
     "end_time": "2023-04-26T23:17:56.988078",
     "exception": false,
     "start_time": "2023-04-26T23:17:56.946396",
     "status": "completed"
    },
    "tags": []
   },
   "outputs": [
    {
     "data": {
      "text/html": [
       "<div>\n",
       "<style scoped>\n",
       "    .dataframe tbody tr th:only-of-type {\n",
       "        vertical-align: middle;\n",
       "    }\n",
       "\n",
       "    .dataframe tbody tr th {\n",
       "        vertical-align: top;\n",
       "    }\n",
       "\n",
       "    .dataframe thead th {\n",
       "        text-align: right;\n",
       "    }\n",
       "</style>\n",
       "<table border=\"1\" class=\"dataframe\">\n",
       "  <thead>\n",
       "    <tr style=\"text-align: right;\">\n",
       "      <th></th>\n",
       "      <th>Time</th>\n",
       "      <th>V1</th>\n",
       "      <th>V2</th>\n",
       "      <th>V3</th>\n",
       "      <th>V4</th>\n",
       "      <th>V5</th>\n",
       "      <th>V6</th>\n",
       "      <th>V7</th>\n",
       "      <th>V8</th>\n",
       "      <th>V9</th>\n",
       "      <th>...</th>\n",
       "      <th>V21</th>\n",
       "      <th>V22</th>\n",
       "      <th>V23</th>\n",
       "      <th>V24</th>\n",
       "      <th>V25</th>\n",
       "      <th>V26</th>\n",
       "      <th>V27</th>\n",
       "      <th>V28</th>\n",
       "      <th>Amount</th>\n",
       "      <th>Class</th>\n",
       "    </tr>\n",
       "  </thead>\n",
       "  <tbody>\n",
       "    <tr>\n",
       "      <th>279863</th>\n",
       "      <td>169142.0</td>\n",
       "      <td>-1.927883</td>\n",
       "      <td>1.125653</td>\n",
       "      <td>-4.518331</td>\n",
       "      <td>1.749293</td>\n",
       "      <td>-1.566487</td>\n",
       "      <td>-2.010494</td>\n",
       "      <td>-0.882850</td>\n",
       "      <td>0.697211</td>\n",
       "      <td>-2.064945</td>\n",
       "      <td>...</td>\n",
       "      <td>0.778584</td>\n",
       "      <td>-0.319189</td>\n",
       "      <td>0.639419</td>\n",
       "      <td>-0.294885</td>\n",
       "      <td>0.537503</td>\n",
       "      <td>0.788395</td>\n",
       "      <td>0.292680</td>\n",
       "      <td>0.147968</td>\n",
       "      <td>390.00</td>\n",
       "      <td>1</td>\n",
       "    </tr>\n",
       "    <tr>\n",
       "      <th>280143</th>\n",
       "      <td>169347.0</td>\n",
       "      <td>1.378559</td>\n",
       "      <td>1.289381</td>\n",
       "      <td>-5.004247</td>\n",
       "      <td>1.411850</td>\n",
       "      <td>0.442581</td>\n",
       "      <td>-1.326536</td>\n",
       "      <td>-1.413170</td>\n",
       "      <td>0.248525</td>\n",
       "      <td>-1.127396</td>\n",
       "      <td>...</td>\n",
       "      <td>0.370612</td>\n",
       "      <td>0.028234</td>\n",
       "      <td>-0.145640</td>\n",
       "      <td>-0.081049</td>\n",
       "      <td>0.521875</td>\n",
       "      <td>0.739467</td>\n",
       "      <td>0.389152</td>\n",
       "      <td>0.186637</td>\n",
       "      <td>0.76</td>\n",
       "      <td>1</td>\n",
       "    </tr>\n",
       "    <tr>\n",
       "      <th>280149</th>\n",
       "      <td>169351.0</td>\n",
       "      <td>-0.676143</td>\n",
       "      <td>1.126366</td>\n",
       "      <td>-2.213700</td>\n",
       "      <td>0.468308</td>\n",
       "      <td>-1.120541</td>\n",
       "      <td>-0.003346</td>\n",
       "      <td>-2.234739</td>\n",
       "      <td>1.210158</td>\n",
       "      <td>-0.652250</td>\n",
       "      <td>...</td>\n",
       "      <td>0.751826</td>\n",
       "      <td>0.834108</td>\n",
       "      <td>0.190944</td>\n",
       "      <td>0.032070</td>\n",
       "      <td>-0.739695</td>\n",
       "      <td>0.471111</td>\n",
       "      <td>0.385107</td>\n",
       "      <td>0.194361</td>\n",
       "      <td>77.89</td>\n",
       "      <td>1</td>\n",
       "    </tr>\n",
       "    <tr>\n",
       "      <th>281144</th>\n",
       "      <td>169966.0</td>\n",
       "      <td>-3.113832</td>\n",
       "      <td>0.585864</td>\n",
       "      <td>-5.399730</td>\n",
       "      <td>1.817092</td>\n",
       "      <td>-0.840618</td>\n",
       "      <td>-2.943548</td>\n",
       "      <td>-2.208002</td>\n",
       "      <td>1.058733</td>\n",
       "      <td>-1.632333</td>\n",
       "      <td>...</td>\n",
       "      <td>0.583276</td>\n",
       "      <td>-0.269209</td>\n",
       "      <td>-0.456108</td>\n",
       "      <td>-0.183659</td>\n",
       "      <td>-0.328168</td>\n",
       "      <td>0.606116</td>\n",
       "      <td>0.884876</td>\n",
       "      <td>-0.253700</td>\n",
       "      <td>245.00</td>\n",
       "      <td>1</td>\n",
       "    </tr>\n",
       "    <tr>\n",
       "      <th>281674</th>\n",
       "      <td>170348.0</td>\n",
       "      <td>1.991976</td>\n",
       "      <td>0.158476</td>\n",
       "      <td>-2.583441</td>\n",
       "      <td>0.408670</td>\n",
       "      <td>1.151147</td>\n",
       "      <td>-0.096695</td>\n",
       "      <td>0.223050</td>\n",
       "      <td>-0.068384</td>\n",
       "      <td>0.577829</td>\n",
       "      <td>...</td>\n",
       "      <td>-0.164350</td>\n",
       "      <td>-0.295135</td>\n",
       "      <td>-0.072173</td>\n",
       "      <td>-0.450261</td>\n",
       "      <td>0.313267</td>\n",
       "      <td>-0.289617</td>\n",
       "      <td>0.002988</td>\n",
       "      <td>-0.015309</td>\n",
       "      <td>42.53</td>\n",
       "      <td>1</td>\n",
       "    </tr>\n",
       "  </tbody>\n",
       "</table>\n",
       "<p>5 rows × 31 columns</p>\n",
       "</div>"
      ],
      "text/plain": [
       "            Time        V1        V2        V3        V4        V5        V6  \\\n",
       "279863  169142.0 -1.927883  1.125653 -4.518331  1.749293 -1.566487 -2.010494   \n",
       "280143  169347.0  1.378559  1.289381 -5.004247  1.411850  0.442581 -1.326536   \n",
       "280149  169351.0 -0.676143  1.126366 -2.213700  0.468308 -1.120541 -0.003346   \n",
       "281144  169966.0 -3.113832  0.585864 -5.399730  1.817092 -0.840618 -2.943548   \n",
       "281674  170348.0  1.991976  0.158476 -2.583441  0.408670  1.151147 -0.096695   \n",
       "\n",
       "              V7        V8        V9  ...       V21       V22       V23  \\\n",
       "279863 -0.882850  0.697211 -2.064945  ...  0.778584 -0.319189  0.639419   \n",
       "280143 -1.413170  0.248525 -1.127396  ...  0.370612  0.028234 -0.145640   \n",
       "280149 -2.234739  1.210158 -0.652250  ...  0.751826  0.834108  0.190944   \n",
       "281144 -2.208002  1.058733 -1.632333  ...  0.583276 -0.269209 -0.456108   \n",
       "281674  0.223050 -0.068384  0.577829  ... -0.164350 -0.295135 -0.072173   \n",
       "\n",
       "             V24       V25       V26       V27       V28  Amount  Class  \n",
       "279863 -0.294885  0.537503  0.788395  0.292680  0.147968  390.00      1  \n",
       "280143 -0.081049  0.521875  0.739467  0.389152  0.186637    0.76      1  \n",
       "280149  0.032070 -0.739695  0.471111  0.385107  0.194361   77.89      1  \n",
       "281144 -0.183659 -0.328168  0.606116  0.884876 -0.253700  245.00      1  \n",
       "281674 -0.450261  0.313267 -0.289617  0.002988 -0.015309   42.53      1  \n",
       "\n",
       "[5 rows x 31 columns]"
      ]
     },
     "execution_count": 18,
     "metadata": {},
     "output_type": "execute_result"
    }
   ],
   "source": [
    "new_dataset.tail()"
   ]
  },
  {
   "cell_type": "code",
   "execution_count": 19,
   "id": "5f9e1bef",
   "metadata": {
    "execution": {
     "iopub.execute_input": "2023-04-26T23:17:57.013279Z",
     "iopub.status.busy": "2023-04-26T23:17:57.012420Z",
     "iopub.status.idle": "2023-04-26T23:17:57.021165Z",
     "shell.execute_reply": "2023-04-26T23:17:57.020086Z"
    },
    "papermill": {
     "duration": 0.024144,
     "end_time": "2023-04-26T23:17:57.023682",
     "exception": false,
     "start_time": "2023-04-26T23:17:56.999538",
     "status": "completed"
    },
    "tags": []
   },
   "outputs": [
    {
     "data": {
      "text/plain": [
       "0    492\n",
       "1    492\n",
       "Name: Class, dtype: int64"
      ]
     },
     "execution_count": 19,
     "metadata": {},
     "output_type": "execute_result"
    }
   ],
   "source": [
    "new_dataset['Class'].value_counts()"
   ]
  },
  {
   "cell_type": "code",
   "execution_count": 20,
   "id": "7c70ea9e",
   "metadata": {
    "execution": {
     "iopub.execute_input": "2023-04-26T23:17:57.048624Z",
     "iopub.status.busy": "2023-04-26T23:17:57.048190Z",
     "iopub.status.idle": "2023-04-26T23:17:57.073870Z",
     "shell.execute_reply": "2023-04-26T23:17:57.072990Z"
    },
    "papermill": {
     "duration": 0.040443,
     "end_time": "2023-04-26T23:17:57.075911",
     "exception": false,
     "start_time": "2023-04-26T23:17:57.035468",
     "status": "completed"
    },
    "tags": []
   },
   "outputs": [
    {
     "data": {
      "text/html": [
       "<div>\n",
       "<style scoped>\n",
       "    .dataframe tbody tr th:only-of-type {\n",
       "        vertical-align: middle;\n",
       "    }\n",
       "\n",
       "    .dataframe tbody tr th {\n",
       "        vertical-align: top;\n",
       "    }\n",
       "\n",
       "    .dataframe thead th {\n",
       "        text-align: right;\n",
       "    }\n",
       "</style>\n",
       "<table border=\"1\" class=\"dataframe\">\n",
       "  <thead>\n",
       "    <tr style=\"text-align: right;\">\n",
       "      <th></th>\n",
       "      <th>Time</th>\n",
       "      <th>V1</th>\n",
       "      <th>V2</th>\n",
       "      <th>V3</th>\n",
       "      <th>V4</th>\n",
       "      <th>V5</th>\n",
       "      <th>V6</th>\n",
       "      <th>V7</th>\n",
       "      <th>V8</th>\n",
       "      <th>V9</th>\n",
       "      <th>...</th>\n",
       "      <th>V20</th>\n",
       "      <th>V21</th>\n",
       "      <th>V22</th>\n",
       "      <th>V23</th>\n",
       "      <th>V24</th>\n",
       "      <th>V25</th>\n",
       "      <th>V26</th>\n",
       "      <th>V27</th>\n",
       "      <th>V28</th>\n",
       "      <th>Amount</th>\n",
       "    </tr>\n",
       "    <tr>\n",
       "      <th>Class</th>\n",
       "      <th></th>\n",
       "      <th></th>\n",
       "      <th></th>\n",
       "      <th></th>\n",
       "      <th></th>\n",
       "      <th></th>\n",
       "      <th></th>\n",
       "      <th></th>\n",
       "      <th></th>\n",
       "      <th></th>\n",
       "      <th></th>\n",
       "      <th></th>\n",
       "      <th></th>\n",
       "      <th></th>\n",
       "      <th></th>\n",
       "      <th></th>\n",
       "      <th></th>\n",
       "      <th></th>\n",
       "      <th></th>\n",
       "      <th></th>\n",
       "      <th></th>\n",
       "    </tr>\n",
       "  </thead>\n",
       "  <tbody>\n",
       "    <tr>\n",
       "      <th>0</th>\n",
       "      <td>99674.500000</td>\n",
       "      <td>0.070714</td>\n",
       "      <td>0.102061</td>\n",
       "      <td>-0.028860</td>\n",
       "      <td>-0.034897</td>\n",
       "      <td>-0.019168</td>\n",
       "      <td>-0.050158</td>\n",
       "      <td>0.066065</td>\n",
       "      <td>-0.093874</td>\n",
       "      <td>-0.001613</td>\n",
       "      <td>...</td>\n",
       "      <td>0.022191</td>\n",
       "      <td>0.057681</td>\n",
       "      <td>0.029068</td>\n",
       "      <td>0.013547</td>\n",
       "      <td>-0.055949</td>\n",
       "      <td>0.024208</td>\n",
       "      <td>-0.031570</td>\n",
       "      <td>0.010946</td>\n",
       "      <td>0.007322</td>\n",
       "      <td>83.917825</td>\n",
       "    </tr>\n",
       "    <tr>\n",
       "      <th>1</th>\n",
       "      <td>80746.806911</td>\n",
       "      <td>-4.771948</td>\n",
       "      <td>3.623778</td>\n",
       "      <td>-7.033281</td>\n",
       "      <td>4.542029</td>\n",
       "      <td>-3.151225</td>\n",
       "      <td>-1.397737</td>\n",
       "      <td>-5.568731</td>\n",
       "      <td>0.570636</td>\n",
       "      <td>-2.581123</td>\n",
       "      <td>...</td>\n",
       "      <td>0.372319</td>\n",
       "      <td>0.713588</td>\n",
       "      <td>0.014049</td>\n",
       "      <td>-0.040308</td>\n",
       "      <td>-0.105130</td>\n",
       "      <td>0.041449</td>\n",
       "      <td>0.051648</td>\n",
       "      <td>0.170575</td>\n",
       "      <td>0.075667</td>\n",
       "      <td>122.211321</td>\n",
       "    </tr>\n",
       "  </tbody>\n",
       "</table>\n",
       "<p>2 rows × 30 columns</p>\n",
       "</div>"
      ],
      "text/plain": [
       "               Time        V1        V2        V3        V4        V5  \\\n",
       "Class                                                                   \n",
       "0      99674.500000  0.070714  0.102061 -0.028860 -0.034897 -0.019168   \n",
       "1      80746.806911 -4.771948  3.623778 -7.033281  4.542029 -3.151225   \n",
       "\n",
       "             V6        V7        V8        V9  ...       V20       V21  \\\n",
       "Class                                          ...                       \n",
       "0     -0.050158  0.066065 -0.093874 -0.001613  ...  0.022191  0.057681   \n",
       "1     -1.397737 -5.568731  0.570636 -2.581123  ...  0.372319  0.713588   \n",
       "\n",
       "            V22       V23       V24       V25       V26       V27       V28  \\\n",
       "Class                                                                         \n",
       "0      0.029068  0.013547 -0.055949  0.024208 -0.031570  0.010946  0.007322   \n",
       "1      0.014049 -0.040308 -0.105130  0.041449  0.051648  0.170575  0.075667   \n",
       "\n",
       "           Amount  \n",
       "Class              \n",
       "0       83.917825  \n",
       "1      122.211321  \n",
       "\n",
       "[2 rows x 30 columns]"
      ]
     },
     "execution_count": 20,
     "metadata": {},
     "output_type": "execute_result"
    }
   ],
   "source": [
    "new_dataset.groupby('Class').mean()"
   ]
  },
  {
   "cell_type": "markdown",
   "id": "1df8b62a",
   "metadata": {
    "papermill": {
     "duration": 0.011241,
     "end_time": "2023-04-26T23:17:57.098993",
     "exception": false,
     "start_time": "2023-04-26T23:17:57.087752",
     "status": "completed"
    },
    "tags": []
   },
   "source": [
    "Splitting training and test data"
   ]
  },
  {
   "cell_type": "code",
   "execution_count": 21,
   "id": "d82920d9",
   "metadata": {
    "execution": {
     "iopub.execute_input": "2023-04-26T23:17:57.124782Z",
     "iopub.status.busy": "2023-04-26T23:17:57.124019Z",
     "iopub.status.idle": "2023-04-26T23:17:57.130213Z",
     "shell.execute_reply": "2023-04-26T23:17:57.129113Z"
    },
    "papermill": {
     "duration": 0.022076,
     "end_time": "2023-04-26T23:17:57.132701",
     "exception": false,
     "start_time": "2023-04-26T23:17:57.110625",
     "status": "completed"
    },
    "tags": []
   },
   "outputs": [],
   "source": [
    "X = new_dataset.drop(columns = 'Class',axis=1)\n",
    "Y = new_dataset['Class']"
   ]
  },
  {
   "cell_type": "code",
   "execution_count": 22,
   "id": "5f2e4387",
   "metadata": {
    "execution": {
     "iopub.execute_input": "2023-04-26T23:17:57.157657Z",
     "iopub.status.busy": "2023-04-26T23:17:57.157238Z",
     "iopub.status.idle": "2023-04-26T23:17:57.165374Z",
     "shell.execute_reply": "2023-04-26T23:17:57.164265Z"
    },
    "papermill": {
     "duration": 0.023566,
     "end_time": "2023-04-26T23:17:57.167952",
     "exception": false,
     "start_time": "2023-04-26T23:17:57.144386",
     "status": "completed"
    },
    "tags": []
   },
   "outputs": [],
   "source": [
    "X_train, X_test, Y_train, Y_test = train_test_split(X,Y, test_size=0.2,stratify=Y, random_state=2)\n"
   ]
  },
  {
   "cell_type": "code",
   "execution_count": 23,
   "id": "0dc31f19",
   "metadata": {
    "execution": {
     "iopub.execute_input": "2023-04-26T23:17:57.193374Z",
     "iopub.status.busy": "2023-04-26T23:17:57.192964Z",
     "iopub.status.idle": "2023-04-26T23:17:57.212110Z",
     "shell.execute_reply": "2023-04-26T23:17:57.209934Z"
    },
    "papermill": {
     "duration": 0.03491,
     "end_time": "2023-04-26T23:17:57.214553",
     "exception": false,
     "start_time": "2023-04-26T23:17:57.179643",
     "status": "completed"
    },
    "tags": []
   },
   "outputs": [
    {
     "name": "stdout",
     "output_type": "stream",
     "text": [
      "            Time        V1        V2        V3        V4        V5        V6  \\\n",
      "262113  160320.0  1.929398 -1.053178 -0.900904 -0.585950 -0.372635  0.557596   \n",
      "124859   77449.0  1.087845  0.522904  0.275704  2.474583  0.213114 -0.225345   \n",
      "214931  139875.0 -1.413456  0.711533  1.349652 -0.684450 -0.329830 -0.375560   \n",
      "191526  129296.0 -0.235179  0.333118 -0.115691 -0.350307  0.605701 -0.679459   \n",
      "46716    42898.0 -0.734962  1.071963  1.068115 -0.197308  0.920102 -1.504670   \n",
      "...          ...       ...       ...       ...       ...       ...       ...   \n",
      "279863  169142.0 -1.927883  1.125653 -4.518331  1.749293 -1.566487 -2.010494   \n",
      "280143  169347.0  1.378559  1.289381 -5.004247  1.411850  0.442581 -1.326536   \n",
      "280149  169351.0 -0.676143  1.126366 -2.213700  0.468308 -1.120541 -0.003346   \n",
      "281144  169966.0 -3.113832  0.585864 -5.399730  1.817092 -0.840618 -2.943548   \n",
      "281674  170348.0  1.991976  0.158476 -2.583441  0.408670  1.151147 -0.096695   \n",
      "\n",
      "              V7        V8        V9  ...       V20       V21       V22  \\\n",
      "262113 -0.725937  0.055606 -0.293741  ... -0.255672 -0.519742 -1.120443   \n",
      "124859  0.389247 -0.100848 -0.960723  ... -0.091763  0.007535 -0.054694   \n",
      "214931  0.781164 -0.241456  1.140071  ...  0.258761  0.000214  0.884008   \n",
      "191526  0.658527 -0.045916  0.315881  ... -0.381735 -0.137698 -0.411278   \n",
      "46716   1.224436 -0.349854 -0.489773  ... -0.017244 -0.154689 -0.438130   \n",
      "...          ...       ...       ...  ...       ...       ...       ...   \n",
      "279863 -0.882850  0.697211 -2.064945  ...  1.252967  0.778584 -0.319189   \n",
      "280143 -1.413170  0.248525 -1.127396  ...  0.226138  0.370612  0.028234   \n",
      "280149 -2.234739  1.210158 -0.652250  ...  0.247968  0.751826  0.834108   \n",
      "281144 -2.208002  1.058733 -1.632333  ...  0.306271  0.583276 -0.269209   \n",
      "281674  0.223050 -0.068384  0.577829  ... -0.017652 -0.164350 -0.295135   \n",
      "\n",
      "             V23       V24       V25       V26       V27       V28  Amount  \n",
      "262113  0.280017 -0.198039 -0.429442 -0.677078  0.036777 -0.017379  111.59  \n",
      "124859 -0.061887  0.083010  0.527815  0.030754 -0.017737  0.020217   45.95  \n",
      "214931 -0.359273  0.115841 -0.044447  0.554139 -0.117028 -0.435692   74.04  \n",
      "191526  0.288115 -0.504035 -0.778931 -0.643073 -0.134275  0.117489    9.99  \n",
      "46716  -0.399004  0.227075  0.503400  0.270448 -0.190780 -0.137089    0.76  \n",
      "...          ...       ...       ...       ...       ...       ...     ...  \n",
      "279863  0.639419 -0.294885  0.537503  0.788395  0.292680  0.147968  390.00  \n",
      "280143 -0.145640 -0.081049  0.521875  0.739467  0.389152  0.186637    0.76  \n",
      "280149  0.190944  0.032070 -0.739695  0.471111  0.385107  0.194361   77.89  \n",
      "281144 -0.456108 -0.183659 -0.328168  0.606116  0.884876 -0.253700  245.00  \n",
      "281674 -0.072173 -0.450261  0.313267 -0.289617  0.002988 -0.015309   42.53  \n",
      "\n",
      "[984 rows x 30 columns]\n"
     ]
    }
   ],
   "source": [
    "print(X)"
   ]
  },
  {
   "cell_type": "code",
   "execution_count": 24,
   "id": "cdec6189",
   "metadata": {
    "execution": {
     "iopub.execute_input": "2023-04-26T23:17:57.240511Z",
     "iopub.status.busy": "2023-04-26T23:17:57.240047Z",
     "iopub.status.idle": "2023-04-26T23:17:57.246393Z",
     "shell.execute_reply": "2023-04-26T23:17:57.245537Z"
    },
    "papermill": {
     "duration": 0.022076,
     "end_time": "2023-04-26T23:17:57.248635",
     "exception": false,
     "start_time": "2023-04-26T23:17:57.226559",
     "status": "completed"
    },
    "tags": []
   },
   "outputs": [
    {
     "name": "stdout",
     "output_type": "stream",
     "text": [
      "262113    0\n",
      "124859    0\n",
      "214931    0\n",
      "191526    0\n",
      "46716     0\n",
      "         ..\n",
      "279863    1\n",
      "280143    1\n",
      "280149    1\n",
      "281144    1\n",
      "281674    1\n",
      "Name: Class, Length: 984, dtype: int64\n"
     ]
    }
   ],
   "source": [
    "print(Y)"
   ]
  },
  {
   "cell_type": "code",
   "execution_count": 25,
   "id": "e50d51ce",
   "metadata": {
    "execution": {
     "iopub.execute_input": "2023-04-26T23:17:57.275906Z",
     "iopub.status.busy": "2023-04-26T23:17:57.275501Z",
     "iopub.status.idle": "2023-04-26T23:17:57.281442Z",
     "shell.execute_reply": "2023-04-26T23:17:57.280295Z"
    },
    "papermill": {
     "duration": 0.023364,
     "end_time": "2023-04-26T23:17:57.284094",
     "exception": false,
     "start_time": "2023-04-26T23:17:57.260730",
     "status": "completed"
    },
    "tags": []
   },
   "outputs": [
    {
     "name": "stdout",
     "output_type": "stream",
     "text": [
      "(984, 30) (787, 30) (197, 30)\n"
     ]
    }
   ],
   "source": [
    "print(X.shape, X_train.shape, X_test.shape)"
   ]
  },
  {
   "cell_type": "markdown",
   "id": "907ce5d9",
   "metadata": {
    "papermill": {
     "duration": 0.011812,
     "end_time": "2023-04-26T23:17:57.308033",
     "exception": false,
     "start_time": "2023-04-26T23:17:57.296221",
     "status": "completed"
    },
    "tags": []
   },
   "source": [
    "Model Training\n",
    "\n",
    "-->> Logistic Regression"
   ]
  },
  {
   "cell_type": "code",
   "execution_count": 26,
   "id": "3b82fa51",
   "metadata": {
    "execution": {
     "iopub.execute_input": "2023-04-26T23:17:57.334306Z",
     "iopub.status.busy": "2023-04-26T23:17:57.333849Z",
     "iopub.status.idle": "2023-04-26T23:17:57.339054Z",
     "shell.execute_reply": "2023-04-26T23:17:57.337815Z"
    },
    "papermill": {
     "duration": 0.021153,
     "end_time": "2023-04-26T23:17:57.341315",
     "exception": false,
     "start_time": "2023-04-26T23:17:57.320162",
     "status": "completed"
    },
    "tags": []
   },
   "outputs": [],
   "source": [
    "model = LogisticRegression()"
   ]
  },
  {
   "cell_type": "code",
   "execution_count": 27,
   "id": "4fc7f4e6",
   "metadata": {
    "execution": {
     "iopub.execute_input": "2023-04-26T23:17:57.367878Z",
     "iopub.status.busy": "2023-04-26T23:17:57.366913Z",
     "iopub.status.idle": "2023-04-26T23:17:57.452577Z",
     "shell.execute_reply": "2023-04-26T23:17:57.450544Z"
    },
    "papermill": {
     "duration": 0.10358,
     "end_time": "2023-04-26T23:17:57.457170",
     "exception": false,
     "start_time": "2023-04-26T23:17:57.353590",
     "status": "completed"
    },
    "tags": []
   },
   "outputs": [
    {
     "data": {
      "text/plain": [
       "LogisticRegression()"
      ]
     },
     "execution_count": 27,
     "metadata": {},
     "output_type": "execute_result"
    }
   ],
   "source": [
    "# training the Logistic Regression Model with Training Data\n",
    "model.fit(X_train, Y_train)"
   ]
  },
  {
   "cell_type": "markdown",
   "id": "4dfd0394",
   "metadata": {
    "papermill": {
     "duration": 0.030953,
     "end_time": "2023-04-26T23:17:57.520133",
     "exception": false,
     "start_time": "2023-04-26T23:17:57.489180",
     "status": "completed"
    },
    "tags": []
   },
   "source": [
    "Model Evaluation\n",
    "\n",
    "Accuracy Score"
   ]
  },
  {
   "cell_type": "code",
   "execution_count": 28,
   "id": "d2fd0f3f",
   "metadata": {
    "execution": {
     "iopub.execute_input": "2023-04-26T23:17:57.568544Z",
     "iopub.status.busy": "2023-04-26T23:17:57.568124Z",
     "iopub.status.idle": "2023-04-26T23:17:57.577099Z",
     "shell.execute_reply": "2023-04-26T23:17:57.575508Z"
    },
    "papermill": {
     "duration": 0.029428,
     "end_time": "2023-04-26T23:17:57.581290",
     "exception": false,
     "start_time": "2023-04-26T23:17:57.551862",
     "status": "completed"
    },
    "tags": []
   },
   "outputs": [],
   "source": [
    "# accuracy on training data\n",
    "X_train_prediction = model.predict(X_train)\n",
    "training_data_accuracy = accuracy_score(X_train_prediction, Y_train)"
   ]
  },
  {
   "cell_type": "code",
   "execution_count": 29,
   "id": "d762394b",
   "metadata": {
    "execution": {
     "iopub.execute_input": "2023-04-26T23:17:57.647198Z",
     "iopub.status.busy": "2023-04-26T23:17:57.646492Z",
     "iopub.status.idle": "2023-04-26T23:17:57.655250Z",
     "shell.execute_reply": "2023-04-26T23:17:57.653682Z"
    },
    "papermill": {
     "duration": 0.048826,
     "end_time": "2023-04-26T23:17:57.661852",
     "exception": false,
     "start_time": "2023-04-26T23:17:57.613026",
     "status": "completed"
    },
    "tags": []
   },
   "outputs": [
    {
     "name": "stdout",
     "output_type": "stream",
     "text": [
      "Accuracy on training data :  0.9479034307496823\n"
     ]
    }
   ],
   "source": [
    "print('Accuracy on training data : ', training_data_accuracy)"
   ]
  },
  {
   "cell_type": "code",
   "execution_count": 30,
   "id": "82e4f093",
   "metadata": {
    "execution": {
     "iopub.execute_input": "2023-04-26T23:17:57.708333Z",
     "iopub.status.busy": "2023-04-26T23:17:57.707869Z",
     "iopub.status.idle": "2023-04-26T23:17:57.717100Z",
     "shell.execute_reply": "2023-04-26T23:17:57.716187Z"
    },
    "papermill": {
     "duration": 0.025434,
     "end_time": "2023-04-26T23:17:57.719262",
     "exception": false,
     "start_time": "2023-04-26T23:17:57.693828",
     "status": "completed"
    },
    "tags": []
   },
   "outputs": [],
   "source": [
    "# accuracy on test data\n",
    "X_test_prediction = model.predict(X_test)\n",
    "test_data_accuracy = accuracy_score(X_test_prediction, Y_test)"
   ]
  },
  {
   "cell_type": "code",
   "execution_count": 31,
   "id": "a87d772f",
   "metadata": {
    "execution": {
     "iopub.execute_input": "2023-04-26T23:17:57.746204Z",
     "iopub.status.busy": "2023-04-26T23:17:57.745404Z",
     "iopub.status.idle": "2023-04-26T23:17:57.751213Z",
     "shell.execute_reply": "2023-04-26T23:17:57.750091Z"
    },
    "papermill": {
     "duration": 0.021878,
     "end_time": "2023-04-26T23:17:57.753606",
     "exception": false,
     "start_time": "2023-04-26T23:17:57.731728",
     "status": "completed"
    },
    "tags": []
   },
   "outputs": [
    {
     "name": "stdout",
     "output_type": "stream",
     "text": [
      "Accuracy on test data :  0.8984771573604061\n"
     ]
    }
   ],
   "source": [
    "print('Accuracy on test data : ', test_data_accuracy)"
   ]
  },
  {
   "cell_type": "code",
   "execution_count": null,
   "id": "e0fc48cf",
   "metadata": {
    "papermill": {
     "duration": 0.011681,
     "end_time": "2023-04-26T23:17:57.777360",
     "exception": false,
     "start_time": "2023-04-26T23:17:57.765679",
     "status": "completed"
    },
    "tags": []
   },
   "outputs": [],
   "source": []
  }
 ],
 "metadata": {
  "kernelspec": {
   "display_name": "Python 3",
   "language": "python",
   "name": "python3"
  },
  "language_info": {
   "codemirror_mode": {
    "name": "ipython",
    "version": 3
   },
   "file_extension": ".py",
   "mimetype": "text/x-python",
   "name": "python",
   "nbconvert_exporter": "python",
   "pygments_lexer": "ipython3",
   "version": "3.7.12"
  },
  "papermill": {
   "default_parameters": {},
   "duration": 19.113253,
   "end_time": "2023-04-26T23:17:58.511355",
   "environment_variables": {},
   "exception": null,
   "input_path": "__notebook__.ipynb",
   "output_path": "__notebook__.ipynb",
   "parameters": {},
   "start_time": "2023-04-26T23:17:39.398102",
   "version": "2.4.0"
  }
 },
 "nbformat": 4,
 "nbformat_minor": 5
}
